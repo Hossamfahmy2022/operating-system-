{
  "nbformat": 4,
  "nbformat_minor": 0,
  "metadata": {
    "colab": {
      "private_outputs": true,
      "provenance": []
    },
    "kernelspec": {
      "name": "python3",
      "display_name": "Python 3"
    },
    "language_info": {
      "name": "python"
    },
    "accelerator": "GPU",
    "gpuClass": "standard"
  },
  "cells": [
    {
      "cell_type": "code",
      "execution_count": null,
      "metadata": {
        "id": "3BUrlvo5MI3L"
      },
      "outputs": [],
      "source": [
        "from tensorflow.keras.datasets import cifar10 "
      ]
    },
    {
      "cell_type": "code",
      "source": [
        "# the data, split between train and validation sets\n",
        "(x_train, y_train), (x_valid, y_valid) = cifar10.load_data()"
      ],
      "metadata": {
        "id": "xvvCApfiMkIz"
      },
      "execution_count": null,
      "outputs": []
    },
    {
      "cell_type": "code",
      "source": [
        "x_train.shape"
      ],
      "metadata": {
        "id": "9sq8jnchMp8h"
      },
      "execution_count": null,
      "outputs": []
    },
    {
      "cell_type": "code",
      "source": [
        "x_valid.shape"
      ],
      "metadata": {
        "id": "CcMSNN_KMs2O"
      },
      "execution_count": null,
      "outputs": []
    },
    {
      "cell_type": "code",
      "source": [
        "x_train.dtype"
      ],
      "metadata": {
        "id": "gNo9ptOLMs5W"
      },
      "execution_count": null,
      "outputs": []
    },
    {
      "cell_type": "code",
      "source": [
        "x_train.min()"
      ],
      "metadata": {
        "id": "BbrLSYsOMs8e"
      },
      "execution_count": null,
      "outputs": []
    },
    {
      "cell_type": "code",
      "source": [
        "x_train.max()"
      ],
      "metadata": {
        "id": "9ETtsbpAMs_C"
      },
      "execution_count": null,
      "outputs": []
    },
    {
      "cell_type": "code",
      "source": [
        "x_train[0]"
      ],
      "metadata": {
        "id": "6tDLfcOLM2by"
      },
      "execution_count": null,
      "outputs": []
    },
    {
      "cell_type": "code",
      "source": [
        "import matplotlib.pyplot as plt\n",
        "\n",
        "image = x_train[0]\n",
        "plt.imshow(image)"
      ],
      "metadata": {
        "id": "AUv5JkuxM2ep"
      },
      "execution_count": null,
      "outputs": []
    },
    {
      "cell_type": "code",
      "source": [
        "y_train[0]"
      ],
      "metadata": {
        "id": "eLHv-5gGM2ia"
      },
      "execution_count": null,
      "outputs": []
    },
    {
      "cell_type": "markdown",
      "source": [
        "#Preparing the Data for Training"
      ],
      "metadata": {
        "id": "2t7KNd7NsXqH"
      }
    },
    {
      "cell_type": "markdown",
      "source": [
        "Flattening the Image Data"
      ],
      "metadata": {
        "id": "sgVglBbKsPEa"
      }
    },
    {
      "cell_type": "code",
      "source": [
        "x_train = x_train.reshape(50000, 3072)\n",
        "x_valid = x_valid.reshape(10000, 3072)"
      ],
      "metadata": {
        "id": "5QpWN5dDM2lS"
      },
      "execution_count": null,
      "outputs": []
    },
    {
      "cell_type": "code",
      "source": [
        "x_train.shape"
      ],
      "metadata": {
        "id": "plgk5gK3NlLC"
      },
      "execution_count": null,
      "outputs": []
    },
    {
      "cell_type": "code",
      "source": [
        "x_train[0]"
      ],
      "metadata": {
        "id": "BV8aocxZNnrO"
      },
      "execution_count": null,
      "outputs": []
    },
    {
      "cell_type": "code",
      "source": [
        "#Normalizing the Image Data"
      ],
      "metadata": {
        "id": "QcrW99xyr5cy"
      },
      "execution_count": null,
      "outputs": []
    },
    {
      "cell_type": "code",
      "source": [
        "x_train = x_train / 255\n",
        "x_valid = x_valid / 255 "
      ],
      "metadata": {
        "id": "WR805oQUNuoR"
      },
      "execution_count": null,
      "outputs": []
    },
    {
      "cell_type": "code",
      "source": [
        "x_train.dtype"
      ],
      "metadata": {
        "id": "vJztC0fGNyE6"
      },
      "execution_count": null,
      "outputs": []
    },
    {
      "cell_type": "code",
      "source": [
        "x_train.min()"
      ],
      "metadata": {
        "id": "fsZ4PnJONz1f"
      },
      "execution_count": null,
      "outputs": []
    },
    {
      "cell_type": "code",
      "source": [
        "x_train.max()"
      ],
      "metadata": {
        "id": "nnfQppTrN1jR"
      },
      "execution_count": null,
      "outputs": []
    },
    {
      "cell_type": "markdown",
      "source": [
        "Categorical Encoding"
      ],
      "metadata": {
        "id": "RxZgOMMIrxLu"
      }
    },
    {
      "cell_type": "code",
      "source": [
        "import tensorflow.keras as keras\n",
        "num_categories = 10\n",
        "\n",
        "y_train = keras.utils.to_categorical(y_train, num_categories)\n",
        "y_valid = keras.utils.to_categorical(y_valid, num_categories)"
      ],
      "metadata": {
        "id": "etlgstY8N3Jm"
      },
      "execution_count": null,
      "outputs": []
    },
    {
      "cell_type": "code",
      "source": [
        "y_train[0:9]"
      ],
      "metadata": {
        "id": "UUz3NqQzPWmO"
      },
      "execution_count": null,
      "outputs": []
    },
    {
      "cell_type": "code",
      "source": [
        "from tensorflow.keras.models import Sequential\n",
        "\n",
        "model = Sequential()"
      ],
      "metadata": {
        "id": "YBuoVxR8PYqh"
      },
      "execution_count": null,
      "outputs": []
    },
    {
      "cell_type": "code",
      "source": [
        "from tensorflow.keras.layers import Dense"
      ],
      "metadata": {
        "id": "3hKoHJHWPcZd"
      },
      "execution_count": null,
      "outputs": []
    },
    {
      "cell_type": "code",
      "source": [
        "model.add(Dense(units=3000, activation='relu', input_shape=(3072,)))"
      ],
      "metadata": {
        "id": "gX6StiTMPesl"
      },
      "execution_count": null,
      "outputs": []
    },
    {
      "cell_type": "code",
      "source": [
        "model.add(Dense(units = 3000, activation='relu'))"
      ],
      "metadata": {
        "id": "XYUlUfbmPlrh"
      },
      "execution_count": null,
      "outputs": []
    },
    {
      "cell_type": "code",
      "source": [
        "model.add(Dense(units = 2000, activation='relu'))"
      ],
      "metadata": {
        "id": "Bue71-wnhIuH"
      },
      "execution_count": null,
      "outputs": []
    },
    {
      "cell_type": "code",
      "source": [
        "model.add(Dense(units = 1000, activation='relu'))"
      ],
      "metadata": {
        "id": "F3TXlMJxhG-I"
      },
      "execution_count": null,
      "outputs": []
    },
    {
      "cell_type": "code",
      "source": [
        "model.add(Dense(units = 10, activation='softmax'))"
      ],
      "metadata": {
        "id": "91IZFQSDPrGH"
      },
      "execution_count": null,
      "outputs": []
    },
    {
      "cell_type": "code",
      "source": [
        "model.summary()"
      ],
      "metadata": {
        "id": "9fUhiiyePuZV"
      },
      "execution_count": null,
      "outputs": []
    },
    {
      "cell_type": "code",
      "source": [
        "\n",
        "model.compile(optimizer='sgd',loss='categorical_crossentropy', metrics=['accuracy'])"
      ],
      "metadata": {
        "id": "c0gewaw0PwM1"
      },
      "execution_count": null,
      "outputs": []
    },
    {
      "cell_type": "code",
      "source": [
        "history = model.fit(\n",
        "    x_train, y_train, epochs=10, verbose=1, validation_data=(x_valid, y_valid)\n",
        ")"
      ],
      "metadata": {
        "id": "8sQpsscxPzEt"
      },
      "execution_count": null,
      "outputs": []
    },
    {
      "cell_type": "code",
      "source": [],
      "metadata": {
        "id": "GR6-xIxB1nrp"
      },
      "execution_count": null,
      "outputs": []
    }
  ]
}